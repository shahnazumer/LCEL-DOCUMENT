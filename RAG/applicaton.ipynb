{
 "cells": [
  {
   "cell_type": "code",
   "execution_count": 4,
   "metadata": {},
   "outputs": [
    {
     "data": {
      "text/plain": [
       "[Document(page_content='The world must be made safe for democracy. Its peace must be planted upon the tested foundations of political liberty. We have no selfish ends to serve. We desire no conquest, no dominion. We seek no indemnities for ourselves, no material compensation for the sacrifices we shall freely make. We are but one of the champions of the rights of mankind. We shall be satisfied when those rights have been made as secure as the faith and the freedom of nations can make them.\\n\\nJust because we fight without rancor and without selfish object, seeking nothing for ourselves but what we shall wish to share with all free peoples, we shall, I feel confident, conduct our operations as belligerents without passion and ourselves observe with proud punctilio the principles of right and of fair play we profess to be fighting for.\\n\\n…\\n\\nIt will be all the easier for us to conduct ourselves as belligerents in a high spirit of right and fairness because we act without animus, not in enmity toward a people or with the desire to bring any injury or disadvantage upon them, but only in armed opposition to an irresponsible government which has thrown aside all considerations of humanity and of right and is running amuck. We are, let me say again, the sincere friends of the German people, and shall desire nothing so much as the early reestablishment of intimate relations of mutual advantage between us—however hard it may be for them, for the time being, to believe that this is spoken from our hearts.\\n\\nWe have borne with their present government through all these bitter months because of that friendship—exercising a patience and forbearance which would otherwise have been impossible. We shall, happily, still have an opportunity to prove that friendship in our daily attitude and actions toward the millions of men and women of German birth and native sympathy who live among us and share our life, and we shall be proud to prove it toward all who are in fact loyal to their neighbors and to the government in the hour of test. They are, most of them, as true and loyal Americans as if they had never known any other fealty or allegiance. They will be prompt to stand with us in rebuking and restraining the few who may be of a different mind and purpose. If there should be disloyalty, it will be dealt with with a firm hand of stern repression; but, if it lifts its head at all, it will lift it only here and there and without countenance except from a lawless and malignant few.\\n\\nIt is a distressing and oppressive duty, gentlemen of the Congress, which I have performed in thus addressing you. There are, it may be, many months of fiery trial and sacrifice ahead of us. It is a fearful thing to lead this great peaceful people into war, into the most terrible and disastrous of all wars, civilization itself seeming to be in the balance. But the right is more precious than peace, and we shall fight for the things which we have always carried nearest our hearts—for democracy, for the right of those who submit to authority to have a voice in their own governments, for the rights and liberties of small nations, for a universal dominion of right by such a concert of free peoples as shall bring peace and safety to all nations and make the world itself at last free.\\n\\nTo such a task we can dedicate our lives and our fortunes, everything that we are and everything that we have, with the pride of those who know that the day has come when America is privileged to spend her blood and her might for the principles that gave her birth and happiness and the peace which she has treasured. God helping her, she can do no other.', metadata={'source': 'speech.txt'})]"
      ]
     },
     "execution_count": 4,
     "metadata": {},
     "output_type": "execute_result"
    }
   ],
   "source": [
    "## Data Ingestion\n",
    "from langchain_community.document_loaders import TextLoader\n",
    "loader=TextLoader(\"speech.txt\")\n",
    "text_documents=loader.load()\n",
    "text_documents"
   ]
  },
  {
   "cell_type": "code",
   "execution_count": 5,
   "metadata": {},
   "outputs": [],
   "source": [
    "import os\n",
    "from dotenv import load_dotenv\n",
    "load_dotenv()\n",
    "\n",
    "os.environ['OPENAI_API_KEY']=os.getenv(\"OPENAI_API_KEY\")"
   ]
  },
  {
   "cell_type": "code",
   "execution_count": 6,
   "metadata": {},
   "outputs": [],
   "source": [
    "# web based loader\n",
    "from langchain_community.document_loaders import WebBaseLoader\n",
    "import bs4\n",
    "\n",
    "## load,chunk and index the content of the html page\n",
    "\n",
    "loader=WebBaseLoader(web_paths=(\"https://lilianweng.github.io/posts/2023-06-23-agent/\",),\n",
    "                     bs_kwargs=dict(parse_only=bs4.SoupStrainer(\n",
    "                         class_=(\"post-title\",\"post-content\",\"post-header\")\n",
    "\n",
    "                     )))\n",
    "\n",
    "text_documents=loader.load()"
   ]
  },
  {
   "cell_type": "code",
   "execution_count": 8,
   "metadata": {},
   "outputs": [],
   "source": [
    "## Pdf reader\n",
    "from langchain_community.document_loaders import PyPDFLoader\n",
    "loader=PyPDFLoader('Determinants of LLM-assisted Decision-Making.pdf')\n",
    "docs=loader.load()"
   ]
  },
  {
   "cell_type": "code",
   "execution_count": 9,
   "metadata": {},
   "outputs": [
    {
     "data": {
      "text/plain": [
       "[Document(page_content='DETERMINANTS OF LLM- ASSISTED DECISION -MAKING\\nEva Eigner and\\n Thorsten Händler\\nFerdinand Porsche Mobile University of Applied Sciences (FERNFH)\\nWiener Neustadt, Austria\\neva.eigner@fernfh.ac.at; thorsten.haendler@fernfh.ac.at\\nABSTRACT\\nDecision-making is a fundamental capability in everyday life. Large Language Models\\n(LLMs) provide multifaceted support in enhancing human decision-making processes.\\nHowever, understanding the influencing factors of LLM-assisted decision-making is crucial\\nfor enabling individuals to utilize LLM-provided advantages and minimize associated risks\\nin order to make more informed and better decisions. This study presents the results of a\\ncomprehensive literature analysis, providing a structural overview and detailed analysis of\\ndeterminants impacting decision-making with LLM support. In particular, we explore the\\neffects of technological aspects of LLMs, including transparency and prompt engineering,', metadata={'source': 'Determinants of LLM-assisted Decision-Making.pdf', 'page': 0}),\n",
       " Document(page_content='determinants impacting decision-making with LLM support. In particular, we explore the\\neffects of technological aspects of LLMs, including transparency and prompt engineering,\\npsychological factors such as emotions and decision-making styles, as well as decision-\\nspecific determinants such as task difficulty and accountability. In addition, the impact of the\\ndeterminants on the decision-making process is illustrated via multiple application scenarios.\\nDrawing from our analysis, we develop a dependency framework that systematizes possible\\ninteractions in terms of reciprocal interdependencies between these determinants. Our\\nresearch reveals that, due to the multifaceted interactions with various determinants, factors\\nsuch as trust in or reliance on LLMs, the user’s mental model, and the characteristics\\nof information processing are identified as significant aspects influencing LLM-assisted\\ndecision-making processes. Our findings can be seen as crucial for improving decision', metadata={'source': 'Determinants of LLM-assisted Decision-Making.pdf', 'page': 0}),\n",
       " Document(page_content='of information processing are identified as significant aspects influencing LLM-assisted\\ndecision-making processes. Our findings can be seen as crucial for improving decision\\nquality in human-AI collaboration, empowering both users and organizations, and designing\\nmore effective LLM interfaces. Additionally, our work provides a foundation for future\\nempirical investigations on the determinants of decision-making assisted by LLMs.\\nKeywords Decision-making, human-computer interaction, large language models (LLMs), conversational AI,\\npsychological determinants, dependency framework, prompt engineering, over-reliance.\\n1 Introduction\\nEvery day, individuals are confronted with a variety of situations that require decision-making. Consequently,\\nthe ability to make decisions by reflecting relevant information and weighing up available decision options in\\nan efficient way is a critical and fundamental capability [ 121]. For many important decisions, both personal', metadata={'source': 'Determinants of LLM-assisted Decision-Making.pdf', 'page': 0}),\n",
       " Document(page_content='an efficient way is a critical and fundamental capability [ 121]. For many important decisions, both personal\\nand professional, individuals seek the advice of experts. While in the past advice commonly has been sought\\nfrom human experts, today advice based on artificial intelligence (AI) is increasingly emerging [ 29,161,117].\\nAI-assisted decision-making is supposed to lead to quicker and improved decision outcomes [ 4]. Hence, its\\nuse in decision-making can be seen as one of the most significant applications of AI [40].\\nLarge Language Models (LLMs) offer versatile assistance in decision-making processes. For instance, their\\nability to process and summarize extensive text data [ 114] enables decision-makers to comprehend key\\ninsights swiftly. Moreover, LLMs are adept at idea generation [ 59] and are capable of generating different\\nsolutions [ 200], enhancing the creation of various alternatives in decision-making. They can also identify', metadata={'source': 'Determinants of LLM-assisted Decision-Making.pdf', 'page': 0}),\n",
       " Document(page_content='solutions [ 200], enhancing the creation of various alternatives in decision-making. They can also identify\\npatterns [ 86] and analyze historical data [ 151], thus potentially providing support in the analysis of decision\\nsituations and evaluation of alternatives. Additionally, LLMs demonstrate the capability to adopt personas of\\nvarious characters and engage in social interactions with each other [ 144] and can simulate debates featuringarXiv:2402.17385v1  [cs.AI]  27 Feb 2024', metadata={'source': 'Determinants of LLM-assisted Decision-Making.pdf', 'page': 0})]"
      ]
     },
     "execution_count": 9,
     "metadata": {},
     "output_type": "execute_result"
    }
   ],
   "source": [
    "from langchain.text_splitter import RecursiveCharacterTextSplitter\n",
    "text_splitter=RecursiveCharacterTextSplitter(chunk_size=1000,chunk_overlap=200)\n",
    "documents=text_splitter.split_documents(docs)\n",
    "documents[:5]"
   ]
  },
  {
   "cell_type": "code",
   "execution_count": 10,
   "metadata": {},
   "outputs": [],
   "source": [
    "## Vector Embedding And Vector Store\n",
    "from langchain_openai import OpenAIEmbeddings\n",
    "from langchain_community.vectorstores import Chroma\n",
    "db = Chroma.from_documents(documents,OpenAIEmbeddings())"
   ]
  },
  {
   "cell_type": "code",
   "execution_count": 11,
   "metadata": {},
   "outputs": [
    {
     "name": "stdout",
     "output_type": "stream",
     "text": [
      "DETERMINANTS OF LLM- ASSISTED DECISION -MAKING\n",
      "Eva Eigner and\n",
      " Thorsten Händler\n",
      "Ferdinand Porsche Mobile University of Applied Sciences (FERNFH)\n",
      "Wiener Neustadt, Austria\n",
      "eva.eigner@fernfh.ac.at; thorsten.haendler@fernfh.ac.at\n",
      "ABSTRACT\n",
      "Decision-making is a fundamental capability in everyday life. Large Language Models\n",
      "(LLMs) provide multifaceted support in enhancing human decision-making processes.\n",
      "However, understanding the influencing factors of LLM-assisted decision-making is crucial\n",
      "for enabling individuals to utilize LLM-provided advantages and minimize associated risks\n",
      "in order to make more informed and better decisions. This study presents the results of a\n",
      "comprehensive literature analysis, providing a structural overview and detailed analysis of\n",
      "determinants impacting decision-making with LLM support. In particular, we explore the\n",
      "effects of technological aspects of LLMs, including transparency and prompt engineering,\n"
     ]
    }
   ],
   "source": [
    "query = \"Who are the authors of Determinants of LLM-assisted Decision-Making?\"\n",
    "retireved_results=db.similarity_search(query)\n",
    "print(retireved_results[0].page_content)"
   ]
  },
  {
   "cell_type": "code",
   "execution_count": 12,
   "metadata": {},
   "outputs": [],
   "source": [
    "## FAISS Vector Database\n",
    "from langchain_community.vectorstores import FAISS\n",
    "db1 = FAISS.from_documents(documents[:15], OpenAIEmbeddings())"
   ]
  },
  {
   "cell_type": "code",
   "execution_count": 13,
   "metadata": {},
   "outputs": [
    {
     "name": "stdout",
     "output_type": "stream",
     "text": [
      "DETERMINANTS OF LLM- ASSISTED DECISION -MAKING\n",
      "Eva Eigner and\n",
      " Thorsten Händler\n",
      "Ferdinand Porsche Mobile University of Applied Sciences (FERNFH)\n",
      "Wiener Neustadt, Austria\n",
      "eva.eigner@fernfh.ac.at; thorsten.haendler@fernfh.ac.at\n",
      "ABSTRACT\n",
      "Decision-making is a fundamental capability in everyday life. Large Language Models\n",
      "(LLMs) provide multifaceted support in enhancing human decision-making processes.\n",
      "However, understanding the influencing factors of LLM-assisted decision-making is crucial\n",
      "for enabling individuals to utilize LLM-provided advantages and minimize associated risks\n",
      "in order to make more informed and better decisions. This study presents the results of a\n",
      "comprehensive literature analysis, providing a structural overview and detailed analysis of\n",
      "determinants impacting decision-making with LLM support. In particular, we explore the\n",
      "effects of technological aspects of LLMs, including transparency and prompt engineering,\n"
     ]
    }
   ],
   "source": [
    "query = \"What Determinants of LLM-assisted Decision-Making is all about?\"\n",
    "retireved_results=db1.similarity_search(query)\n",
    "print(retireved_results[0].page_content)"
   ]
  },
  {
   "cell_type": "code",
   "execution_count": null,
   "metadata": {},
   "outputs": [],
   "source": []
  }
 ],
 "metadata": {
  "kernelspec": {
   "display_name": "base",
   "language": "python",
   "name": "python3"
  },
  "language_info": {
   "codemirror_mode": {
    "name": "ipython",
    "version": 3
   },
   "file_extension": ".py",
   "mimetype": "text/x-python",
   "name": "python",
   "nbconvert_exporter": "python",
   "pygments_lexer": "ipython3",
   "version": "3.11.5"
  }
 },
 "nbformat": 4,
 "nbformat_minor": 2
}
