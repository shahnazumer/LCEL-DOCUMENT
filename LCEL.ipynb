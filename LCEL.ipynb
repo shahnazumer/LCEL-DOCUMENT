{
  "nbformat": 4,
  "nbformat_minor": 0,
  "metadata": {
    "colab": {
      "provenance": [],
      "authorship_tag": "ABX9TyNMjORk3uez2I0jU80gSCNK",
      "include_colab_link": true
    },
    "kernelspec": {
      "name": "python3",
      "display_name": "Python 3"
    },
    "language_info": {
      "name": "python"
    }
  },
  "cells": [
    {
      "cell_type": "markdown",
      "metadata": {
        "id": "view-in-github",
        "colab_type": "text"
      },
      "source": [
        "<a href=\"https://colab.research.google.com/github/shahnazumer/LCEL-DOCUMENT/blob/main/LCEL.ipynb\" target=\"_parent\"><img src=\"https://colab.research.google.com/assets/colab-badge.svg\" alt=\"Open In Colab\"/></a>"
      ]
    },
    {
      "cell_type": "markdown",
      "source": [
        "#### [LangChain in Detailed](https://python.langchain.com/docs/expression_language/)\n",
        "\n",
        "# LangChain Expression Language (LCEL)"
      ],
      "metadata": {
        "id": "E7PR11Gx1eqe"
      }
    },
    {
      "cell_type": "markdown",
      "source": [
        "The LangChain Expression Language (LCEL) acts as a tool that simplifies and distills certain interesting Python concepts into a format. This format enables the creation of a streamlined code layer for building sequences of LangChain components."
      ],
      "metadata": {
        "id": "RL8_zGy42KUN"
      }
    },
    {
      "cell_type": "markdown",
      "source": [
        "# Advantages of LCEL\n",
        "## The benefits of using LCEL include:\n",
        "\n",
        "### Asynchronous, Batch, and Streaming Support:\n",
        "###### Chains crafted in LCEL inherently cater to both synchronous and asynchronous interfaces, as well as batch and streaming capabilities. This flexibility simplifies the process of starting with a synchronous prototype and later transitioning it to an asynchronous streaming interface.\n",
        "\n",
        "### Fallback in Chains:\n",
        "###### With LCEL, any chain can readily incorporate fallbacks. This feature streamlines error management and fosters graceful handling.\n",
        "\n",
        "### Parallel Processing:\n",
        "###### LCEL-composed chains inherently support parallel processing for all its components. Given that LLM applications frequently incorporate lengthy API calls, the importance of parallelism cannot be understated.\n",
        "\n",
        "### Seamless LangSmith Trace Integration:\n",
        "###### An inherent trait of LCEL is the automatic logging of every step in LangSmith, ensuring optimum observability and debuggability."
      ],
      "metadata": {
        "id": "a99BozMP2jkG"
      }
    },
    {
      "cell_type": "markdown",
      "source": [
        "#LCEL Syntax"
      ],
      "metadata": {
        "id": "-Ox9bDdv5W-1"
      }
    },
    {
      "cell_type": "code",
      "source": [
        "!pip install langchain==0.0.345 openai"
      ],
      "metadata": {
        "id": "_tMxggAo1V1a"
      },
      "execution_count": null,
      "outputs": []
    },
    {
      "cell_type": "code",
      "source": [
        "import os\n",
        "\n",
        "os.environ[\"OPENAI_API_KEY\"] = \"\""
      ],
      "metadata": {
        "id": "e4szzbw97rLN"
      },
      "execution_count": 6,
      "outputs": []
    },
    {
      "cell_type": "code",
      "source": [
        "from langchain.prompts import ChatPromptTemplate\n",
        "from langchain.chat_models import ChatOpenAI\n",
        "from langchain.schema.output_parser import StrOutputParser\n",
        "\n",
        "model = ChatOpenAI(temperature = 0.5)\n",
        "prompt = ChatPromptTemplate.from_template(\"Give me brief report about {topic}\")\n",
        "output_parser = StrOutputParser()\n",
        "chain = prompt | model | output_parser"
      ],
      "metadata": {
        "id": "2kckSUvc5m2h"
      },
      "execution_count": 15,
      "outputs": []
    },
    {
      "cell_type": "code",
      "source": [
        "# In typical LangChain we would chain these three componenets together using an LLMChain but\n",
        "# Using LCEL the format is different, rather than relying on Chains we simple chain together each component using the pipe operator |:\n",
        "\n",
        "chain = prompt | model | output_parser\n",
        "\n",
        "chain.invoke({\"topic\": \"Personal Development\"})\n",
        "\n"
      ],
      "metadata": {
        "colab": {
          "base_uri": "https://localhost:8080/",
          "height": 140
        },
        "id": "aRDdJDq66X5-",
        "outputId": "2576c3c9-3e93-4ecd-fcde-5e90e4471858"
      },
      "execution_count": 12,
      "outputs": [
        {
          "output_type": "execute_result",
          "data": {
            "text/plain": [
              "\"Personal development refers to the ongoing process of improving oneself, both personally and professionally, to reach one's full potential. It involves self-awareness, self-reflection, and self-improvement in various aspects of life, such as relationships, career, health, and personal growth.\\n\\nThe main goal of personal development is to enhance one's skills, knowledge, and mindset to achieve personal and professional success. It involves setting goals, acquiring new skills, adopting positive habits, and overcoming obstacles to become a better version of oneself.\\n\\nPersonal development can be achieved through various methods, including reading self-help books, attending seminars and workshops, seeking mentorship, practicing self-reflection, and engaging in activities that promote personal growth. It is a lifelong process that requires continuous learning and adaptation to changing circumstances.\\n\\nBenefits of personal development include increased self-confidence, improved communication and interpersonal skills, enhanced problem-solving abilities, better time management, increased resilience, and a sense of fulfillment and purpose in life.\\n\\nIn conclusion, personal development is a continuous journey of self-improvement aimed at reaching one's full potential and living a fulfilling and successful life. It involves self-awareness, self-reflection, and acquiring new skills and habits to become the best version of oneself.\""
            ],
            "application/vnd.google.colaboratory.intrinsic+json": {
              "type": "string"
            }
          },
          "metadata": {},
          "execution_count": 12
        }
      ]
    },
    {
      "cell_type": "markdown",
      "source": [
        "#LangChain Components and the Runnable Protocol\n",
        "LangChain components implement the \"Runnable\" protocol. This protocol provides a standard interface for defining custom chains and invoking them in a standardized manner."
      ],
      "metadata": {
        "id": "pR97-RrCBL0Z"
      }
    },
    {
      "cell_type": "markdown",
      "source": [
        "## Standard Interface\n",
        "\n",
        "##### The primary standard interfaces include:\n",
        "\n",
        " - stream: Stream back chunks of response.\n",
        " - invoke: Invoke chain with input.\n",
        " - batch: Invoke chain with a list of inputs."
      ],
      "metadata": {
        "id": "I36ngOvBBXvW"
      }
    },
    {
      "cell_type": "markdown",
      "source": [
        "And there's a corresponding set of asynchronous methods:\n",
        "\n",
        " - astream: Asynchronously streams back a chunk of the response.\n",
        " - ainvoke: Asynchronously invokes the chain with an input.\n",
        " - abatch: Asynchronously invokes the chain with a list of inputs.\n",
        " - astream_log: Streams back intermediate steps in addition to the final response."
      ],
      "metadata": {
        "id": "r4mCSugnCocz"
      }
    },
    {
      "cell_type": "code",
      "source": [
        "# batch response\n",
        "\n",
        "chain.batch([{\"topic\": \"Personal Development\"}, {\"topic\": \"Programming\"}])"
      ],
      "metadata": {
        "colab": {
          "base_uri": "https://localhost:8080/"
        },
        "id": "41_suSba-zqe",
        "outputId": "8f3bfd45-b9e7-4e75-dff5-fe9f236de497"
      },
      "execution_count": 17,
      "outputs": [
        {
          "output_type": "execute_result",
          "data": {
            "text/plain": [
              "[\"Personal development refers to the continuous process of improving oneself mentally, emotionally, physically, and spiritually. It involves setting goals, acquiring new skills, and adopting positive habits to enhance one's overall well-being and achieve personal growth.\\n\\nThe importance of personal development lies in its ability to help individuals discover their true potential, build self-confidence, and lead a fulfilling life. It enables individuals to identify their strengths and weaknesses, and work towards overcoming obstacles and achieving their goals.\\n\\nPersonal development can be achieved through various means, such as self-reflection, seeking feedback from others, attending workshops or training programs, reading self-help books, and engaging in activities that promote self-improvement. It involves developing skills like time management, communication, problem-solving, and decision-making, which are essential for success in both personal and professional life.\\n\\nFurthermore, personal development also encompasses emotional intelligence, which involves understanding and managing one's emotions, as well as empathizing with others. This skill is crucial for building healthy relationships and effective communication.\\n\\nIn addition to the individual benefits, personal development also has a positive impact on society as a whole. When individuals strive to become the best version of themselves, they contribute to creating a more positive and productive environment, where people are motivated to achieve their goals and support each other's growth.\\n\\nIn conclusion, personal development is a lifelong journey that involves continuous self-improvement in various aspects of life. It empowers individuals to discover their potential, develop essential skills, and lead a fulfilling and meaningful life. By focusing on personal development, individuals can enhance their overall well-being and make a positive impact on themselves and the world around them.\",\n",
              " 'Programming is the process of creating computer programs using programming languages. It involves writing instructions, also known as code, that tell a computer how to perform specific tasks. \\n\\nProgramming is essential in the development of software, websites, mobile applications, and other digital tools. It allows computers to execute complex operations and solve problems efficiently. \\n\\nThere are numerous programming languages available, each with its own syntax and purpose. Some popular programming languages include Python, Java, C++, JavaScript, and Ruby. These languages have different strengths and are used for various applications.\\n\\nThe programming process typically involves several steps, including analyzing the problem, designing a solution, coding the program, testing and debugging, and finally, maintaining and updating the program. Programmers use integrated development environments (IDEs) and text editors to write their code and compile it into executable files.\\n\\nProgramming requires logical thinking, problem-solving skills, and attention to detail. It involves breaking down complex tasks into smaller, manageable steps and using algorithms to solve them. Programmers also need to understand data structures, algorithms, and software design principles to create efficient and reliable programs.\\n\\nIn addition to writing code, programmers often collaborate with other team members, such as software engineers, designers, and project managers, to develop software solutions. They may also need to document their code and communicate effectively to ensure proper understanding and usage of their programs.\\n\\nOverall, programming is a crucial skill in the digital age, enabling the creation of innovative software and technology that powers various industries and improves our daily lives.']"
            ]
          },
          "metadata": {},
          "execution_count": 17
        }
      ]
    },
    {
      "cell_type": "code",
      "source": [
        "# Streaming responses\n",
        "\n",
        "for chunk in chain.stream({\"topic\" : \"Personal Development\"}):\n",
        "    print(chunk, end=\"\", flush=True)"
      ],
      "metadata": {
        "colab": {
          "base_uri": "https://localhost:8080/"
        },
        "id": "s1pjmOBuCN45",
        "outputId": "27d2424d-f320-4604-e3c7-f0df992b8667"
      },
      "execution_count": 24,
      "outputs": [
        {
          "output_type": "stream",
          "name": "stdout",
          "text": [
            "Personal development refers to the process of improving oneself through various activities, experiences, and learning opportunities. It involves the development of skills, knowledge, and attitudes that contribute to personal growth and self-improvement.\n",
            "\n",
            "Personal development encompasses various aspects of an individual's life, including physical, emotional, intellectual, and spiritual well-being. It often involves setting goals, identifying strengths and weaknesses, and taking steps to enhance one's personal and professional life.\n",
            "\n",
            "The benefits of personal development are numerous. It can increase self-awareness and self-confidence, improve communication and interpersonal skills, enhance problem-solving abilities, and foster a sense of purpose and fulfillment. Personal development also helps individuals adapt to change, manage stress, and build resilience.\n",
            "\n",
            "There are various approaches to personal development, including formal education, self-help books, workshops, coaching, and mentoring. These methods provide individuals with the tools and resources to develop new skills, improve existing ones, and overcome personal barriers.\n",
            "\n",
            "Personal development is a lifelong journey that requires continuous effort and dedication. It involves setting goals, creating action plans, and regularly evaluating progress. It also requires individuals to be open to feedback, willing to learn from mistakes, and committed to personal growth.\n",
            "\n",
            "In conclusion, personal development is a process of self-improvement that encompasses various aspects of an individual's life. It involves setting goals, developing skills, and enhancing personal well-being. By investing in personal development, individuals can unlock their full potential and lead a more fulfilling and successful life."
          ]
        }
      ]
    },
    {
      "cell_type": "code",
      "source": [
        "# Async Stream\n",
        "\n",
        "async for chunk in chain.astream({\"topic\" : \"Personal Development\"}):\n",
        "    print(chunk, end=\"\", flush=True)"
      ],
      "metadata": {
        "colab": {
          "base_uri": "https://localhost:8080/"
        },
        "id": "2bUzVJesCxcm",
        "outputId": "65dfd4ed-1897-4c3d-da51-01b19a83480c"
      },
      "execution_count": 26,
      "outputs": [
        {
          "output_type": "stream",
          "name": "stdout",
          "text": [
            "Personal development refers to the ongoing process of improving oneself in various aspects of life, including personal growth, self-awareness, and skill enhancement. It is a lifelong journey that involves setting goals, acquiring new knowledge and skills, and developing positive habits and attitudes.\n",
            "\n",
            "The importance of personal development lies in its ability to empower individuals to reach their full potential and lead a fulfilling life. It enables individuals to identify their strengths and weaknesses, set realistic goals, and take actions to overcome obstacles and achieve success. Personal development also enhances self-confidence, self-esteem, and self-awareness, leading to improved relationships, career prospects, and overall well-being.\n",
            "\n",
            "There are several key areas of personal development that individuals can focus on, including:\n",
            "\n",
            "1. Emotional intelligence: Developing emotional intelligence involves understanding and managing one's own emotions, as well as recognizing and empathizing with the emotions of others. It helps individuals build stronger relationships, communicate effectively, and handle conflicts in a constructive manner.\n",
            "\n",
            "2. Communication skills: Effective communication is essential in both personal and professional relationships. Developing communication skills involves improving listening skills, expressing thoughts and ideas clearly, and adapting communication style to different situations and audiences.\n",
            "\n",
            "3. Time management: Time management skills enable individuals to prioritize tasks, set goals, and make efficient use of their time. It helps individuals become more organized, productive, and less stressed.\n",
            "\n",
            "4. Goal setting: Setting and achieving goals is a fundamental aspect of personal development. It involves identifying specific, measurable, achievable, relevant, and time-bound (SMART) goals, and taking consistent actions to attain them. Goal setting provides individuals with direction, motivation, and a sense of accomplishment.\n",
            "\n",
            "5. Continuous learning: Personal development emphasizes the importance of lifelong learning. It involves acquiring new knowledge, skills, and experiences through various means such as reading, attending workshops or seminars, taking courses, or seeking mentorship. Continuous learning enhances personal growth and keeps individuals adaptable and competitive in a rapidly changing world.\n",
            "\n",
            "In conclusion, personal development is a continuous process that involves self-reflection, goal setting, and taking actions to improve oneself in various areas of life. It plays a crucial role in enhancing self-awareness, personal growth, and overall well-being. By investing in personal development, individuals can unlock their full potential and lead a more fulfilling and successful life."
          ]
        }
      ]
    },
    {
      "cell_type": "code",
      "source": [
        "# Async Invoke\n",
        "\n",
        "chain.ainvoke({\"topic\" : \"Personal Development\"})\n",
        "\n",
        "# Async Batch\n",
        "\n",
        "await chain.abatch([{\"topic\": \"Personal Development\"}, {\"topic\": \"Chocolates\"}])"
      ],
      "metadata": {
        "colab": {
          "base_uri": "https://localhost:8080/"
        },
        "id": "N_xQgvx6EXnT",
        "outputId": "a132d076-51a0-4774-b4f9-a35952d66839"
      },
      "execution_count": 30,
      "outputs": [
        {
          "output_type": "stream",
          "name": "stderr",
          "text": [
            "<ipython-input-30-18070f325ea4>:3: RuntimeWarning: coroutine 'RunnableSequence.ainvoke' was never awaited\n",
            "  chain.ainvoke({\"topic\" : \"Personal Development\"})\n",
            "RuntimeWarning: Enable tracemalloc to get the object allocation traceback\n"
          ]
        },
        {
          "output_type": "execute_result",
          "data": {
            "text/plain": [
              "[\"Personal development refers to the continuous process of improving oneself in various aspects of life, including personal, professional, emotional, and social development. It involves setting goals, acquiring new skills, enhancing self-awareness, and fostering positive attitudes and behaviors.\\n\\nThe purpose of personal development is to maximize one's potential, achieve personal growth, and lead a fulfilling and successful life. It is a lifelong journey that requires self-reflection, self-discipline, and a commitment to personal growth.\\n\\nThere are several key areas of personal development, including:\\n\\n1. Self-awareness: This involves understanding one's strengths, weaknesses, values, beliefs, and emotions. It helps individuals gain a deeper understanding of themselves and their motivations.\\n\\n2. Goal setting: Setting clear and achievable goals is an important aspect of personal development. It helps individuals stay focused, motivated, and accountable for their actions.\\n\\n3. Learning and acquiring new skills: Personal development involves continuous learning and acquiring new knowledge and skills. This could be through formal education, training programs, workshops, or self-study.\\n\\n4. Emotional intelligence: Developing emotional intelligence is crucial for personal development. It involves understanding and managing one's own emotions, as well as effectively recognizing and responding to the emotions of others.\\n\\n5. Time management: Effective time management is essential for personal development. It involves prioritizing tasks, setting deadlines, and managing one's time efficiently to achieve goals and maintain a healthy work-life balance.\\n\\n6. Positive mindset: Cultivating a positive mindset is important for personal development. It involves developing a positive attitude, practicing gratitude, and adopting a growth mindset to overcome challenges and setbacks.\\n\\n7. Building relationships and social skills: Personal development includes developing strong interpersonal skills and building meaningful relationships. This involves effective communication, active listening, empathy, and conflict resolution.\\n\\nPersonal development is a continuous and ongoing process that requires commitment, self-discipline, and a willingness to step out of one's comfort zone. It can lead to personal growth, increased self-confidence, improved relationships, and overall well-being.\",\n",
              " \"Chocolates are a popular and beloved treat enjoyed by people all over the world. They are made from the beans of the cacao tree, which are roasted and ground to produce cocoa solids and cocoa butter. These ingredients are then mixed with sugar and other flavorings to create different types of chocolates.\\n\\nChocolates come in various forms, including bars, truffles, bonbons, and filled chocolates. They can be dark, milk, or white, depending on the amount of cocoa solids and cocoa butter used in the recipe. Dark chocolate has a higher percentage of cocoa solids and is known for its rich and intense flavor. Milk chocolate contains added milk powder or condensed milk, giving it a creamy and sweeter taste. White chocolate, on the other hand, does not contain any cocoa solids but is made from cocoa butter, sugar, and milk solids.\\n\\nBesides their delicious taste, chocolates have been associated with several health benefits. Dark chocolate, in particular, is rich in antioxidants and may help improve heart health, reduce inflammation, and enhance brain function. Additionally, chocolates contain minerals like iron, magnesium, and zinc, which are essential for the body.\\n\\nChocolates are often given as gifts, especially during special occasions like Valentine's Day and Christmas. They are also commonly used in baking and cooking, adding a delightful flavor to various desserts and dishes. Many people find comfort and pleasure in indulging in chocolates, as they are known to stimulate the release of endorphins, which can boost mood and create a sense of happiness.\\n\\nHowever, it is important to consume chocolates in moderation, as they are high in calories and can contribute to weight gain if consumed excessively. Additionally, some people may have allergies or sensitivities to certain ingredients found in chocolates, such as milk or nuts.\\n\\nIn conclusion, chocolates are a beloved treat enjoyed by many for their delicious taste and potential health benefits. Whether enjoyed as a snack, gift, or ingredient in various recipes, chocolates continue to be a popular and indulgent delight for people of all ages.\"]"
            ]
          },
          "metadata": {},
          "execution_count": 30
        }
      ]
    },
    {
      "cell_type": "markdown",
      "source": [
        "With that in mind, we can build a Runnable class that consumes a function and turns it into a function that can be chained with other functions using the pipe operator |."
      ],
      "metadata": {
        "id": "yJ8x2CAIGtZ3"
      }
    },
    {
      "cell_type": "code",
      "source": [
        "class Runnable:\n",
        "    def __init__(self, func):\n",
        "        self.func = func\n",
        "\n",
        "    def __or__(self, other):\n",
        "        def chained_func(*args, **kwargs):\n",
        "            # the other func consumes the result of this func\n",
        "            return other(self.func(*args, **kwargs))\n",
        "        return Runnable(chained_func)\n",
        "\n",
        "    def __call__(self, *args, **kwargs):\n",
        "        return self.func(*args, **kwargs)"
      ],
      "metadata": {
        "id": "iS0_NBWsFIU6"
      },
      "execution_count": 31,
      "outputs": []
    },
    {
      "cell_type": "code",
      "source": [
        "# Let's implement this to take the value 3, add 5 (giving 8), and multiply by 2 (giving 16).\n",
        "\n",
        "def add_five(x):\n",
        "    return x + 5\n",
        "\n",
        "def multiply_by_two(x):\n",
        "    return x * 2\n",
        "\n",
        "# wrap the functions with Runnable\n",
        "add_five = Runnable(add_five)\n",
        "multiply_by_two = Runnable(multiply_by_two)\n",
        "\n",
        "# run them using the object approach\n",
        "chain = add_five.__or__(multiply_by_two)\n",
        "chain(3)  # should return 16"
      ],
      "metadata": {
        "colab": {
          "base_uri": "https://localhost:8080/"
        },
        "id": "o06Gf3A6G1-d",
        "outputId": "57676aad-b486-4ec1-8006-2deb7c2dae49"
      },
      "execution_count": 32,
      "outputs": [
        {
          "output_type": "execute_result",
          "data": {
            "text/plain": [
              "16"
            ]
          },
          "metadata": {},
          "execution_count": 32
        }
      ]
    },
    {
      "cell_type": "code",
      "source": [
        "# Using __or__ directly we get the correct answer, now let's try using the pipe operator | to chain them together:\n",
        "\n",
        "# chain the runnable functions together\n",
        "chain = add_five | multiply_by_two\n",
        "\n",
        "# invoke the chain\n",
        "chain(3)  # we should return 16"
      ],
      "metadata": {
        "colab": {
          "base_uri": "https://localhost:8080/"
        },
        "id": "3Yj5PklZG_s3",
        "outputId": "fd62e09c-be49-4bb4-d47d-a3fd29c2c88a"
      },
      "execution_count": 34,
      "outputs": [
        {
          "output_type": "execute_result",
          "data": {
            "text/plain": [
              "16"
            ]
          },
          "metadata": {},
          "execution_count": 34
        }
      ]
    },
    {
      "cell_type": "markdown",
      "source": [
        "Using either both above method we get the same response\n"
      ],
      "metadata": {
        "id": "s8n04ufmHNg4"
      }
    },
    {
      "cell_type": "markdown",
      "source": [
        "# Runnables"
      ],
      "metadata": {
        "id": "nuZkdyCOHhU0"
      }
    },
    {
      "cell_type": "markdown",
      "source": [
        "##### When working with LCEL we may find that we need to modify the structure or values being passed between components — for this we can use runnables"
      ],
      "metadata": {
        "id": "s7t6hM3BHpBq"
      }
    },
    {
      "cell_type": "code",
      "source": [
        "from langchain.embeddings.openai import OpenAIEmbeddings\n",
        "from langchain_community.vectorstores import FAISS\n",
        "from operator import itemgetter"
      ],
      "metadata": {
        "id": "lWhRJ5I8RRTN"
      },
      "execution_count": 66,
      "outputs": []
    },
    {
      "cell_type": "code",
      "source": [
        "\n",
        "\n",
        "embeddings = OpenAIEmbeddings()\n",
        "\n",
        "vecstore_a = FAISS.from_texts(\n",
        "    [\"half the info will be here\", \"Shahnaz' birthday is the 1st October\"],\n",
        "    embedding=embeddings\n",
        ")\n",
        "vecstore_b = FAISS.from_texts(\n",
        "    [\"and half here\", \"Shahnaz was born in Dubai\"],\n",
        "    embedding=embeddings\n",
        ")"
      ],
      "metadata": {
        "id": "ofDwJF7NHGOo"
      },
      "execution_count": 67,
      "outputs": []
    },
    {
      "cell_type": "code",
      "source": [
        "# First let's try passing a question through to a single one of these vecstore objects:\n",
        "\n",
        "from langchain_core.runnables import (\n",
        "    RunnableParallel,\n",
        "    RunnablePassthrough\n",
        ")\n",
        "\n",
        "retriever_a = vecstore_a.as_retriever()\n",
        "retriever_b = vecstore_b.as_retriever()\n",
        "\n",
        "prompt_str = \"\"\"Answer the question below using the context:\n",
        "\n",
        "Context: {context}\n",
        "\n",
        "Question: {question}\n",
        "\n",
        "Answer: \"\"\"\n",
        "prompt = ChatPromptTemplate.from_template(prompt_str)\n",
        "\n",
        "retrieval = RunnableParallel(\n",
        "    {\"context\": retriever_a, \"question\": RunnablePassthrough()}\n",
        ")\n",
        "\n",
        "chain = retrieval | prompt | model | output_parser\n"
      ],
      "metadata": {
        "id": "q7sUeILFL75X"
      },
      "execution_count": 69,
      "outputs": []
    },
    {
      "cell_type": "code",
      "source": [
        "out = chain.invoke(\"when was Shahnaz born ?\")\n",
        "print(out)"
      ],
      "metadata": {
        "colab": {
          "base_uri": "https://localhost:8080/"
        },
        "id": "GIOx15cXIKqH",
        "outputId": "28044453-e5c4-4d67-beda-28265c620dbe"
      },
      "execution_count": 71,
      "outputs": [
        {
          "output_type": "stream",
          "name": "stdout",
          "text": [
            "Shahnaz was born on the 1st October.\n"
          ]
        }
      ]
    },
    {
      "cell_type": "markdown",
      "source": [
        "Here we have used `RunnableParallel` to create two parallel streams of information, one for `\"context\"` that is information fed in from `retriever_a`, and another for `\"question\"` which is the _passthrough_ information, ie the information that is passed through from our `chain.invoke(\"when was Shahnaz Born?\")` call.\n",
        "\n",
        "Using this information the chain is close to answering the question but it doesn't have enough information, it is missing the information that we have stored in `retriever_b`. Fortunately, we can have multiple parallel information streams using the `RunnableParallel` object."
      ],
      "metadata": {
        "id": "mo1TUyioTBgS"
      }
    },
    {
      "cell_type": "code",
      "source": [
        "prompt_str = \"\"\"Answer the question below using the context:\n",
        "\n",
        "Context:\n",
        "{context_a}\n",
        "{context_b}\n",
        "\n",
        "Question: {question}\n",
        "\n",
        "Answer: \"\"\"\n",
        "prompt = ChatPromptTemplate.from_template(prompt_str)\n",
        "\n",
        "retrieval = RunnableParallel(\n",
        "    {\n",
        "        \"context_a\": retriever_a, \"context_b\": retriever_b,\n",
        "        \"question\": RunnablePassthrough()\n",
        "    }\n",
        ")\n",
        "\n",
        "chain = retrieval | prompt | model | output_parser"
      ],
      "metadata": {
        "id": "ELDIXHfpS3mk"
      },
      "execution_count": 72,
      "outputs": []
    },
    {
      "cell_type": "code",
      "source": [
        "out = chain.invoke(\"when was shahnaz born?\")\n",
        "print(out)"
      ],
      "metadata": {
        "colab": {
          "base_uri": "https://localhost:8080/"
        },
        "id": "EP02MDytTLuT",
        "outputId": "d4702893-7d93-489b-d247-ec712ef2c728"
      },
      "execution_count": 73,
      "outputs": [
        {
          "output_type": "stream",
          "name": "stdout",
          "text": [
            "Shahnaz was born on the 1st October.\n"
          ]
        }
      ]
    },
    {
      "cell_type": "markdown",
      "source": [
        "Now the RunnableParallel object is allowing us to search with retriever_a and retriever_b in parallel, ie at the same time."
      ],
      "metadata": {
        "id": "R2eKgseHTXOz"
      }
    },
    {
      "cell_type": "markdown",
      "source": [
        "# Runnable Lambdas"
      ],
      "metadata": {
        "id": "Q1EGML2KTb-t"
      }
    },
    {
      "cell_type": "markdown",
      "source": [
        "\n",
        "##### The RunnableLambda is a LangChain abstraction that allows us to turn Python functions into pipe-compatible function, similar to the Runnable class we created near the beginning of this notebook.\n",
        "\n",
        "##### Let's try it out with our earlier add_five and multiply_by_two functions."
      ],
      "metadata": {
        "id": "9xMvNQjCTiDn"
      }
    },
    {
      "cell_type": "code",
      "source": [
        "from langchain_core.runnables import RunnableLambda\n",
        "\n",
        "# wrap the functions with RunnableLambda\n",
        "add_five = RunnableLambda(add_five)\n",
        "multiply_by_two = RunnableLambda(multiply_by_two)"
      ],
      "metadata": {
        "id": "rFiFQZaPTRcl"
      },
      "execution_count": 74,
      "outputs": []
    },
    {
      "cell_type": "code",
      "source": [
        "chain = add_five | multiply_by_two"
      ],
      "metadata": {
        "id": "40dl0JjdTp9f"
      },
      "execution_count": 75,
      "outputs": []
    },
    {
      "cell_type": "markdown",
      "source": [
        "Unlike our Runnable abstraction, we cannot run the RunnableLambda chain by calling it directly, instead we must call chain.invoke:"
      ],
      "metadata": {
        "id": "FyP0Q2s6TwP0"
      }
    },
    {
      "cell_type": "code",
      "source": [
        "chain.invoke(3)"
      ],
      "metadata": {
        "colab": {
          "base_uri": "https://localhost:8080/"
        },
        "id": "whfILvHxTs6d",
        "outputId": "5a94e113-0be5-4fd0-9d76-b171e1ae0814"
      },
      "execution_count": 76,
      "outputs": [
        {
          "output_type": "execute_result",
          "data": {
            "text/plain": [
              "16"
            ]
          },
          "metadata": {},
          "execution_count": 76
        }
      ]
    },
    {
      "cell_type": "markdown",
      "source": [
        "As before, we can see the same answer. Naturally we can feed custom functions into our chains using this approach. Let's try a short chain and see where we might want to insert a custom function:"
      ],
      "metadata": {
        "id": "v2hPC4wzT2z1"
      }
    },
    {
      "cell_type": "code",
      "source": [
        "prompt_str = \"Tell me an short fact about {topic}\"\n",
        "prompt = ChatPromptTemplate.from_template(prompt_str)\n",
        "\n",
        "chain = prompt | model | output_parser"
      ],
      "metadata": {
        "id": "t8hne2ctT0Sh"
      },
      "execution_count": 77,
      "outputs": []
    },
    {
      "cell_type": "code",
      "source": [
        "chain.invoke({\"topic\": \"Artificial Intelligence\"})"
      ],
      "metadata": {
        "colab": {
          "base_uri": "https://localhost:8080/",
          "height": 53
        },
        "id": "Ln773nXJT6uu",
        "outputId": "8f24f4d2-db1e-4f3e-8341-566d41282162"
      },
      "execution_count": 78,
      "outputs": [
        {
          "output_type": "execute_result",
          "data": {
            "text/plain": [
              "'One short fact about Artificial Intelligence is that it is a branch of computer science that focuses on creating intelligent machines capable of performing tasks that typically require human intelligence, such as speech recognition, decision-making, and problem-solving.'"
            ],
            "application/vnd.google.colaboratory.intrinsic+json": {
              "type": "string"
            }
          },
          "metadata": {},
          "execution_count": 78
        }
      ]
    },
    {
      "cell_type": "markdown",
      "source": [
        "The returned text always includes the initial \"Here's a short fact about ...\\n\\n\" — let's add a function to split on double newlines \"\\n\\n\" and only return the fact itself."
      ],
      "metadata": {
        "id": "Qp_j0yafUF9s"
      }
    },
    {
      "cell_type": "code",
      "source": [
        "def extract_fact(x):\n",
        "    if \"\\n\\n\" in x:\n",
        "        return \"\\n\".join(x.split(\"\\n\\n\")[1:])\n",
        "    else:\n",
        "        return x\n",
        "\n",
        "get_fact = RunnableLambda(extract_fact)\n",
        "\n",
        "chain = prompt | model | output_parser | get_fact"
      ],
      "metadata": {
        "id": "pMEKddSbUIO6"
      },
      "execution_count": 79,
      "outputs": []
    },
    {
      "cell_type": "code",
      "source": [
        "chain.invoke({\"topic\": \"Artificial Intelligence\"})"
      ],
      "metadata": {
        "colab": {
          "base_uri": "https://localhost:8080/",
          "height": 53
        },
        "id": "J8XsFR2DUKng",
        "outputId": "f837b5ac-0ce0-40d0-931f-32c0b38afd2e"
      },
      "execution_count": 81,
      "outputs": [
        {
          "output_type": "execute_result",
          "data": {
            "text/plain": [
              "'One short fact about Artificial Intelligence is that it is a branch of computer science that focuses on creating intelligent machines capable of performing tasks that typically require human intelligence.'"
            ],
            "application/vnd.google.colaboratory.intrinsic+json": {
              "type": "string"
            }
          },
          "metadata": {},
          "execution_count": 81
        }
      ]
    },
    {
      "cell_type": "code",
      "source": [
        "chain.invoke({\"topic\": \"Artificial Intelligence\"})"
      ],
      "metadata": {
        "colab": {
          "base_uri": "https://localhost:8080/",
          "height": 53
        },
        "id": "d9RU_VhNUNzI",
        "outputId": "7bb2586a-e13d-44cf-ad63-42b2e5e751f7"
      },
      "execution_count": 82,
      "outputs": [
        {
          "output_type": "execute_result",
          "data": {
            "text/plain": [
              "'One short fact about Artificial Intelligence is that it refers to the simulation of human intelligence in machines that are programmed to think and learn like humans, enabling them to perform tasks that typically require human intelligence.'"
            ],
            "application/vnd.google.colaboratory.intrinsic+json": {
              "type": "string"
            }
          },
          "metadata": {},
          "execution_count": 82
        }
      ]
    },
    {
      "cell_type": "markdown",
      "source": [
        "Now we're getting well formatted outputs using our final custom `get_fact` function.\n",
        "\n",
        "---\n",
        "\n",
        "That covers the essentials you need to getting started and building with the **L**ang**C**hain **E**xpression **L**anguage (LCEL). With it, we can put together chains very easily — and the current focus of the LangChain team is on further LCEL development and support.\n",
        "\n",
        "The pros and cons of LCEL are varied. Those that love it tend to focus on the minimalist code style, LCEL's support for streaming, parallel operations, and async, and LCEL's nice integration with LangChain's focus on chaining components together."
      ],
      "metadata": {
        "id": "UyTKoabeUpmY"
      }
    },
    {
      "cell_type": "code",
      "source": [],
      "metadata": {
        "id": "v8MvhoQ0UWqi"
      },
      "execution_count": null,
      "outputs": []
    }
  ]
}